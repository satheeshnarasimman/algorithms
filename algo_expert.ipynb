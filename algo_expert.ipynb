{
 "cells": [
  {
   "cell_type": "markdown",
   "id": "decimal-designer",
   "metadata": {},
   "source": [
    "#### 1- 1.1"
   ]
  },
  {
   "cell_type": "code",
   "execution_count": 1,
   "id": "greatest-sitting",
   "metadata": {},
   "outputs": [],
   "source": [
    "def two_number_sum1 (array, target_sum):\n",
    "    for num1_index in range (len (array)- 1):\n",
    "        first_num= array[num1_index]\n",
    "        for num2_index in range (num1_index+ 1, len (array)):\n",
    "            second_num= array[num2_index]\n",
    "            \n",
    "            if first_num+ second_num== target_sum:\n",
    "                return [first_num, second_num]\n",
    "    return []"
   ]
  },
  {
   "cell_type": "code",
   "execution_count": 3,
   "id": "controlled-bangkok",
   "metadata": {},
   "outputs": [
    {
     "data": {
      "text/plain": [
       "[65, 356]"
      ]
     },
     "execution_count": 3,
     "metadata": {},
     "output_type": "execute_result"
    }
   ],
   "source": [
    "array= [-21, 301, 12, 4, 65, 56, 210, 356, 9, -47]\n",
    "target_sum= 421\n",
    "    \n",
    "two_number_sum1 (array, target_sum)"
   ]
  },
  {
   "cell_type": "markdown",
   "id": "important-space",
   "metadata": {},
   "source": [
    "#### 1.2"
   ]
  },
  {
   "cell_type": "code",
   "execution_count": 5,
   "id": "small-hunger",
   "metadata": {},
   "outputs": [],
   "source": [
    "def two_number_sum2 (array, target_sum):\n",
    "    matching_table= {}\n",
    "    \n",
    "    for num in array:\n",
    "        potential_match= target_sum- num\n",
    "        if potential_match in matching_table:\n",
    "            return [potential_match, num]\n",
    "        \n",
    "        else:\n",
    "            matching_table[num]= True\n",
    "            \n",
    "    return []"
   ]
  },
  {
   "cell_type": "code",
   "execution_count": 6,
   "id": "filled-entrance",
   "metadata": {},
   "outputs": [
    {
     "data": {
      "text/plain": [
       "[210, -47]"
      ]
     },
     "execution_count": 6,
     "metadata": {},
     "output_type": "execute_result"
    }
   ],
   "source": [
    "array= [-21, 301, 12, 4, 65, 56, 210, 356, 9, -47]\n",
    "target_sum= 163\n",
    "    \n",
    "two_number_sum2 (array, target_sum)"
   ]
  },
  {
   "cell_type": "markdown",
   "id": "owned-applicant",
   "metadata": {},
   "source": [
    "#### 1.3"
   ]
  },
  {
   "cell_type": "code",
   "execution_count": 8,
   "id": "prescription-termination",
   "metadata": {},
   "outputs": [],
   "source": [
    "def two_number_sum3 (array, target_sum):\n",
    "    array.sort()\n",
    "    \n",
    "    left= 0\n",
    "    right= len (array)- 1\n",
    "    \n",
    "    while left< right:\n",
    "        current_sum= array[left]+ array[right]\n",
    "\n",
    "        if current_sum== target_sum:\n",
    "            return [array[left], array[right]]\n",
    "        \n",
    "        elif current_sum< target_sum:\n",
    "            array[left]+= 1\n",
    "            \n",
    "        elif current_sum> target_sum:\n",
    "            array[right]-= 1\n",
    "            \n",
    "    return []"
   ]
  },
  {
   "cell_type": "code",
   "execution_count": 11,
   "id": "wireless-legislature",
   "metadata": {},
   "outputs": [
    {
     "data": {
      "text/plain": [
       "[-47, -52]"
      ]
     },
     "execution_count": 11,
     "metadata": {},
     "output_type": "execute_result"
    }
   ],
   "source": [
    "array= [-21, 301, 12, 4, 65, 56, 210, 356, 9, -47]\n",
    "target_sum= -99\n",
    "    \n",
    "two_number_sum3 (array, target_sum)"
   ]
  },
  {
   "cell_type": "markdown",
   "id": "efficient-cuisine",
   "metadata": {},
   "source": [
    "#### 2- 2.1"
   ]
  },
  {
   "cell_type": "code",
   "execution_count": 48,
   "id": "extraordinary-phoenix",
   "metadata": {},
   "outputs": [],
   "source": [
    "def is_subsequence (array, sequence):\n",
    "    seq_index= 0\n",
    "    \n",
    "    for value in array:\n",
    "        if seq_index== len(sequence):\n",
    "            break\n",
    "        elif sequence[seq_index]== value:\n",
    "            seq_index+= 1\n",
    "            \n",
    "    return seq_index== len (sequence)"
   ]
  },
  {
   "cell_type": "code",
   "execution_count": 55,
   "id": "economic-forward",
   "metadata": {},
   "outputs": [
    {
     "data": {
      "text/plain": [
       "True"
      ]
     },
     "execution_count": 55,
     "metadata": {},
     "output_type": "execute_result"
    }
   ],
   "source": [
    "array= [5, 1, 22, 25, 6, -1, 8, 10]\n",
    "sequence= [1, 22, 8, 10]\n",
    "\n",
    "is_subsequence (array, sequence)"
   ]
  },
  {
   "cell_type": "markdown",
   "id": "quality-template",
   "metadata": {},
   "source": [
    "#### 2.2"
   ]
  },
  {
   "cell_type": "code",
   "execution_count": 54,
   "id": "requested-anthropology",
   "metadata": {},
   "outputs": [],
   "source": [
    "def is_subsequence2 (array, sequence):\n",
    "    arr_index= 0\n",
    "    seq_index= 0\n",
    "    \n",
    "    while arr_index< len (array) and seq_index< len (sequence):\n",
    "        if array[arr_index]== sequence[seq_index]:\n",
    "            seq_index+= 1\n",
    "        \n",
    "        arr_index+= 1\n",
    "        \n",
    "    return seq_index== len (sequence)"
   ]
  },
  {
   "cell_type": "code",
   "execution_count": 57,
   "id": "brown-report",
   "metadata": {},
   "outputs": [
    {
     "data": {
      "text/plain": [
       "False"
      ]
     },
     "execution_count": 57,
     "metadata": {},
     "output_type": "execute_result"
    }
   ],
   "source": [
    "array= [5, 1, 22, 25, 6, -1, 8, 10]\n",
    "sequence= [1, 22, 8, 11]\n",
    "\n",
    "is_subsequence (array, sequence)"
   ]
  },
  {
   "cell_type": "markdown",
   "id": "third-congress",
   "metadata": {},
   "source": [
    "#### 3- 3.1"
   ]
  },
  {
   "cell_type": "code",
   "execution_count": 64,
   "id": "published-daisy",
   "metadata": {},
   "outputs": [],
   "source": [
    "def sorted_square (array):\n",
    "    array.sort()\n",
    "    \n",
    "    square= []\n",
    "    for number in array:\n",
    "        square.append(number**2)\n",
    "        \n",
    "    return square"
   ]
  },
  {
   "cell_type": "code",
   "execution_count": 65,
   "id": "valid-missile",
   "metadata": {},
   "outputs": [
    {
     "data": {
      "text/plain": [
       "[16, 81, 121, 324, 484, 625]"
      ]
     },
     "execution_count": 65,
     "metadata": {},
     "output_type": "execute_result"
    }
   ],
   "source": [
    "array= [18,11,25,9,22,4]\n",
    "\n",
    "sorted_square (array)"
   ]
  },
  {
   "cell_type": "markdown",
   "id": "parallel-crown",
   "metadata": {},
   "source": [
    "#### 4- 4.1"
   ]
  },
  {
   "cell_type": "code",
   "execution_count": 117,
   "id": "applicable-ranch",
   "metadata": {},
   "outputs": [],
   "source": [
    "def tournament_winner (competitions, results):\n",
    "    home_team_wins= 1\n",
    "    current_best_team= \" \"\n",
    "    score_tracker= {current_best_team: 0}\n",
    "    \n",
    "    for index, games in enumerate (competitions):\n",
    "        winning_result= results[index]\n",
    "        home_team, away_team= games\n",
    "        \n",
    "        if winning_result== home_team_wins:\n",
    "            winning_team= home_team\n",
    "        else:\n",
    "            winning_team= away_team\n",
    "            \n",
    "        update_scores (winning_team, 3, score_tracker)\n",
    "        \n",
    "        if score_tracker[winning_team]> score_tracker[current_best_team]:\n",
    "            current_best_team= winning_team\n",
    "            \n",
    "def update_scores (team, points, scores):\n",
    "    if team not in scores:\n",
    "        scores[team]= 0\n",
    "    else:    \n",
    "        scores[team]+= points"
   ]
  },
  {
   "cell_type": "code",
   "execution_count": 118,
   "id": "artistic-stupid",
   "metadata": {},
   "outputs": [],
   "source": [
    "{\n",
    "    \"competitions\": [\n",
    "    [\"HTML\", \"Java\"],\n",
    "    [\"Java\", \"Python\"],\n",
    "    [\"Python\", \"HTML\"],\n",
    "    [\"C#\", \"Python\"],\n",
    "    [\"Java\", \"C#\"],\n",
    "    [\"C#\", \"HTML\"],\n",
    "    [\"SQL\", \"C#\"],\n",
    "    [\"HTML\", \"SQL\"],\n",
    "    [\"SQL\", \"Python\"],\n",
    "    [\"SQL\", \"Java\"],\n",
    "  ],\n",
    "    \n",
    "   \"results\": [0, 1, 1, 1, 0, 1, 0, 1, 1, 0]\n",
    "}\n",
    "\n",
    "tournament_winner (competitions, results)"
   ]
  },
  {
   "cell_type": "markdown",
   "id": "center-coating",
   "metadata": {},
   "source": [
    "#### 5.1"
   ]
  },
  {
   "cell_type": "code",
   "execution_count": 128,
   "id": "hindu-argument",
   "metadata": {},
   "outputs": [],
   "source": [
    "def non_constructible_change (coins):\n",
    "    \"\"\"Mathematically- Min amount of change that cannot be given: A specific amount+1\n",
    "    If all combinations can be created- Add all the coins. Combined sum +1\"\"\"\n",
    "    \n",
    "    coins.sort()\n",
    "    current_change_created= 0\n",
    "    \n",
    "    for coin in coins:\n",
    "        if coin> current_change_created+ 1:\n",
    "            return current_change_created+ 1\n",
    "        \n",
    "        current_change_created+= coin\n",
    "    \n",
    "    # This is the smallest change that cannot be created\n",
    "    return current_change_created+ 1"
   ]
  },
  {
   "cell_type": "code",
   "execution_count": 129,
   "id": "liquid-roman",
   "metadata": {},
   "outputs": [
    {
     "data": {
      "text/plain": [
       "55"
      ]
     },
     "execution_count": 129,
     "metadata": {},
     "output_type": "execute_result"
    }
   ],
   "source": [
    "coins= [1, 5, 1, 1, 1, 10, 15, 20, 100]\n",
    "non_constructible_change (coins)"
   ]
  },
  {
   "cell_type": "code",
   "execution_count": null,
   "id": "exceptional-attendance",
   "metadata": {},
   "outputs": [],
   "source": []
  }
 ],
 "metadata": {
  "kernelspec": {
   "display_name": "Python 3",
   "language": "python",
   "name": "python3"
  },
  "language_info": {
   "codemirror_mode": {
    "name": "ipython",
    "version": 3
   },
   "file_extension": ".py",
   "mimetype": "text/x-python",
   "name": "python",
   "nbconvert_exporter": "python",
   "pygments_lexer": "ipython3",
   "version": "3.7.9"
  }
 },
 "nbformat": 4,
 "nbformat_minor": 5
}
